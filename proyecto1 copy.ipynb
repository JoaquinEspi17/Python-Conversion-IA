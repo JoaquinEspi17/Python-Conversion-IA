{
 "cells": [
  {
   "cell_type": "code",
   "execution_count": 11,
   "metadata": {},
   "outputs": [],
   "source": [
    "import tensorflow as tf\n",
    "import pandas as pd\n",
    "import numpy as np\n",
    "import seaborn as sns\n",
    "import matplotlib.pyplot as plt"
   ]
  },
  {
   "cell_type": "code",
   "execution_count": 14,
   "metadata": {},
   "outputs": [
    {
     "data": {
      "image/png": "[encoded data removed]",
      "text/plain": [
       "<Figure size 640x480 with 1 Axes>"
      ]
     },
     "metadata": {},
     "output_type": "display_data"
    }
   ],
   "source": [
    "# Importando Datos\n",
    "temperature_df = pd.read_csv(\"celsius_a_fahrenheit.csv\")\n",
    "\n",
    "# Visualizacion\n",
    "sns.scatterplot(x='Celsius', y='Fahrenheit', data=temperature_df)\n",
    "plt.show()\n"
   ]
  },
  {
   "cell_type": "code",
   "execution_count": 15,
   "metadata": {},
   "outputs": [],
   "source": [
    "#Cargando Set de Datos\n",
    "X_train = temperature_df['Celsius']\n",
    "y_train = temperature_df['Fahrenheit']\n",
    "\n",
    "#Creando el Modelo\n",
    "model = tf.keras.Sequential()\n",
    "model.add(tf.keras.layers.Dense(units=1, input_shape=[1]))"
   ]
  },
  {
   "cell_type": "code",
   "execution_count": 16,
   "metadata": {},
   "outputs": [],
   "source": [
    "#Compilado\n",
    "model.compile(optimizer=tf.keras.optimizers.Adam(1), loss='mean_squared_error')"
   ]
  },
  {
   "cell_type": "code",
   "execution_count": 17,
   "metadata": {},
   "outputs": [
    {
     "name": "stdout",
     "output_type": "stream",
     "text": [
      "Epoch 1/100\n",
      "1/1 [==============================] - 1s 586ms/step - loss: 1126.6281\n",
      "Epoch 2/100\n",
      "1/1 [==============================] - 0s 3ms/step - loss: 1098.6750\n",
      "Epoch 3/100\n",
      "1/1 [==============================] - 0s 6ms/step - loss: 982.2166\n",
      "Epoch 4/100\n",
      "1/1 [==============================] - 0s 4ms/step - loss: 835.0667\n",
      "Epoch 5/100\n",
      "1/1 [==============================] - 0s 5ms/step - loss: 831.0907\n",
      "Epoch 6/100\n",
      "1/1 [==============================] - 0s 7ms/step - loss: 801.9108\n",
      "Epoch 7/100\n",
      "1/1 [==============================] - 0s 4ms/step - loss: 700.0822\n",
      "Epoch 8/100\n",
      "1/1 [==============================] - 0s 6ms/step - loss: 622.6071\n",
      "Epoch 9/100\n",
      "1/1 [==============================] - 0s 4ms/step - loss: 602.1552\n",
      "Epoch 10/100\n",
      "1/1 [==============================] - 0s 5ms/step - loss: 576.8743\n",
      "Epoch 11/100\n",
      "1/1 [==============================] - 0s 7ms/step - loss: 513.0389\n",
      "Epoch 12/100\n",
      "1/1 [==============================] - 0s 5ms/step - loss: 447.0370\n",
      "Epoch 13/100\n",
      "1/1 [==============================] - 0s 6ms/step - loss: 412.9506\n",
      "Epoch 14/100\n",
      "1/1 [==============================] - 0s 4ms/step - loss: 394.9536\n",
      "Epoch 15/100\n",
      "1/1 [==============================] - 0s 5ms/step - loss: 360.1184\n",
      "Epoch 16/100\n",
      "1/1 [==============================] - 0s 4ms/step - loss: 310.4809\n",
      "Epoch 17/100\n",
      "1/1 [==============================] - 0s 5ms/step - loss: 271.9251\n",
      "Epoch 18/100\n",
      "1/1 [==============================] - 0s 7ms/step - loss: 252.8167\n",
      "Epoch 19/100\n",
      "1/1 [==============================] - 0s 5ms/step - loss: 234.9341\n",
      "Epoch 20/100\n",
      "1/1 [==============================] - 0s 6ms/step - loss: 204.6326\n",
      "Epoch 21/100\n",
      "1/1 [==============================] - 0s 4ms/step - loss: 171.7930\n",
      "Epoch 22/100\n",
      "1/1 [==============================] - 0s 5ms/step - loss: 151.0172\n",
      "Epoch 23/100\n",
      "1/1 [==============================] - 0s 4ms/step - loss: 139.5478\n",
      "Epoch 24/100\n",
      "1/1 [==============================] - 0s 11ms/step - loss: 123.9461\n",
      "Epoch 25/100\n",
      "1/1 [==============================] - 0s 5ms/step - loss: 101.8869\n",
      "Epoch 26/100\n",
      "1/1 [==============================] - 0s 8ms/step - loss: 83.6009\n",
      "Epoch 27/100\n",
      "1/1 [==============================] - 0s 4ms/step - loss: 74.3132\n",
      "Epoch 28/100\n",
      "1/1 [==============================] - 0s 5ms/step - loss: 66.9410\n",
      "Epoch 29/100\n",
      "1/1 [==============================] - 0s 6ms/step - loss: 54.7885\n",
      "Epoch 30/100\n",
      "1/1 [==============================] - 0s 5ms/step - loss: 41.7497\n",
      "Epoch 31/100\n",
      "1/1 [==============================] - 0s 5ms/step - loss: 34.3770\n",
      "Epoch 32/100\n",
      "1/1 [==============================] - 0s 5ms/step - loss: 31.0207\n",
      "Epoch 33/100\n",
      "1/1 [==============================] - 0s 6ms/step - loss: 25.5648\n",
      "Epoch 34/100\n",
      "1/1 [==============================] - 0s 5ms/step - loss: 17.8374\n",
      "Epoch 35/100\n",
      "1/1 [==============================] - 0s 6ms/step - loss: 12.8002\n",
      "Epoch 36/100\n",
      "1/1 [==============================] - 0s 8ms/step - loss: 11.5020\n",
      "Epoch 37/100\n",
      "1/1 [==============================] - 0s 7ms/step - loss: 9.8115\n",
      "Epoch 38/100\n",
      "1/1 [==============================] - 0s 6ms/step - loss: 5.9860\n",
      "Epoch 39/100\n",
      "1/1 [==============================] - 0s 7ms/step - loss: 3.0971\n",
      "Epoch 40/100\n",
      "1/1 [==============================] - 0s 6ms/step - loss: 2.9466\n",
      "Epoch 41/100\n",
      "1/1 [==============================] - 0s 7ms/step - loss: 3.0658\n",
      "Epoch 42/100\n",
      "1/1 [==============================] - 0s 5ms/step - loss: 1.5414\n",
      "Epoch 43/100\n",
      "1/1 [==============================] - 0s 7ms/step - loss: 0.1615\n",
      "Epoch 44/100\n",
      "1/1 [==============================] - 0s 5ms/step - loss: 0.5958\n",
      "Epoch 45/100\n",
      "1/1 [==============================] - 0s 6ms/step - loss: 1.3723\n",
      "Epoch 46/100\n",
      "1/1 [==============================] - 0s 5ms/step - loss: 0.9284\n",
      "Epoch 47/100\n",
      "1/1 [==============================] - 0s 5ms/step - loss: 0.3736\n",
      "Epoch 48/100\n",
      "1/1 [==============================] - 0s 5ms/step - loss: 0.9872\n",
      "Epoch 49/100\n",
      "1/1 [==============================] - 0s 6ms/step - loss: 1.7975\n",
      "Epoch 50/100\n",
      "1/1 [==============================] - 0s 5ms/step - loss: 1.6913\n",
      "Epoch 51/100\n",
      "1/1 [==============================] - 0s 6ms/step - loss: 1.4708\n",
      "Epoch 52/100\n",
      "1/1 [==============================] - 0s 6ms/step - loss: 2.0104\n",
      "Epoch 53/100\n",
      "1/1 [==============================] - 0s 6ms/step - loss: 2.5703\n",
      "Epoch 54/100\n",
      "1/1 [==============================] - 0s 7ms/step - loss: 2.4475\n",
      "Epoch 55/100\n",
      "1/1 [==============================] - 0s 7ms/step - loss: 2.3053\n",
      "Epoch 56/100\n",
      "1/1 [==============================] - 0s 5ms/step - loss: 2.6612\n",
      "Epoch 57/100\n",
      "1/1 [==============================] - 0s 5ms/step - loss: 2.9007\n",
      "Epoch 58/100\n",
      "1/1 [==============================] - 0s 7ms/step - loss: 2.6654\n",
      "Epoch 59/100\n",
      "1/1 [==============================] - 0s 7ms/step - loss: 2.5201\n",
      "Epoch 60/100\n",
      "1/1 [==============================] - 0s 6ms/step - loss: 2.6838\n",
      "Epoch 61/100\n",
      "1/1 [==============================] - 0s 6ms/step - loss: 2.6555\n",
      "Epoch 62/100\n",
      "1/1 [==============================] - 0s 5ms/step - loss: 2.3491\n",
      "Epoch 63/100\n",
      "1/1 [==============================] - 0s 5ms/step - loss: 2.2075\n",
      "Epoch 64/100\n",
      "1/1 [==============================] - 0s 5ms/step - loss: 2.2208\n",
      "Epoch 65/100\n",
      "1/1 [==============================] - 0s 4ms/step - loss: 2.0314\n",
      "Epoch 66/100\n",
      "1/1 [==============================] - 0s 5ms/step - loss: 1.7389\n",
      "Epoch 67/100\n",
      "1/1 [==============================] - 0s 5ms/step - loss: 1.6254\n",
      "Epoch 68/100\n",
      "1/1 [==============================] - 0s 5ms/step - loss: 1.5436\n",
      "Epoch 69/100\n",
      "1/1 [==============================] - 0s 4ms/step - loss: 1.3059\n",
      "Epoch 70/100\n",
      "1/1 [==============================] - 0s 4ms/step - loss: 1.0940\n",
      "Epoch 71/100\n",
      "1/1 [==============================] - 0s 6ms/step - loss: 1.0158\n",
      "Epoch 72/100\n",
      "1/1 [==============================] - 0s 4ms/step - loss: 0.8917\n",
      "Epoch 73/100\n",
      "1/1 [==============================] - 0s 6ms/step - loss: 0.6931\n",
      "Epoch 74/100\n",
      "1/1 [==============================] - 0s 5ms/step - loss: 0.5813\n",
      "Epoch 75/100\n",
      "1/1 [==============================] - 0s 10ms/step - loss: 0.5263\n",
      "Epoch 76/100\n",
      "1/1 [==============================] - 0s 7ms/step - loss: 0.4061\n",
      "Epoch 77/100\n",
      "1/1 [==============================] - 0s 7ms/step - loss: 0.2904\n",
      "Epoch 78/100\n",
      "1/1 [==============================] - 0s 6ms/step - loss: 0.2537\n",
      "Epoch 79/100\n",
      "1/1 [==============================] - 0s 5ms/step - loss: 0.2082\n",
      "Epoch 80/100\n",
      "1/1 [==============================] - 0s 7ms/step - loss: 0.1261\n",
      "Epoch 81/100\n",
      "1/1 [==============================] - 0s 7ms/step - loss: 0.0898\n",
      "Epoch 82/100\n",
      "1/1 [==============================] - 0s 6ms/step - loss: 0.0853\n",
      "Epoch 83/100\n",
      "1/1 [==============================] - 0s 5ms/step - loss: 0.0483\n",
      "Epoch 84/100\n",
      "1/1 [==============================] - 0s 8ms/step - loss: 0.0168\n",
      "Epoch 85/100\n",
      "1/1 [==============================] - 0s 23ms/step - loss: 0.0243\n",
      "Epoch 86/100\n",
      "1/1 [==============================] - 0s 17ms/step - loss: 0.0213\n",
      "Epoch 87/100\n",
      "1/1 [==============================] - 0s 12ms/step - loss: 0.0017\n",
      "Epoch 88/100\n",
      "1/1 [==============================] - 0s 8ms/step - loss: 0.0073\n",
      "Epoch 89/100\n",
      "1/1 [==============================] - 0s 6ms/step - loss: 0.0202\n",
      "Epoch 90/100\n",
      "1/1 [==============================] - 0s 6ms/step - loss: 0.0134\n",
      "Epoch 91/100\n",
      "1/1 [==============================] - 0s 5ms/step - loss: 0.0142\n",
      "Epoch 92/100\n",
      "1/1 [==============================] - 0s 7ms/step - loss: 0.0290\n",
      "Epoch 93/100\n",
      "1/1 [==============================] - 0s 4ms/step - loss: 0.0308\n",
      "Epoch 94/100\n",
      "1/1 [==============================] - 0s 5ms/step - loss: 0.0281\n",
      "Epoch 95/100\n",
      "1/1 [==============================] - 0s 4ms/step - loss: 0.0379\n",
      "Epoch 96/100\n",
      "1/1 [==============================] - 0s 5ms/step - loss: 0.0428\n",
      "Epoch 97/100\n",
      "1/1 [==============================] - 0s 5ms/step - loss: 0.0387\n",
      "Epoch 98/100\n",
      "1/1 [==============================] - 0s 5ms/step - loss: 0.0420\n",
      "Epoch 99/100\n",
      "1/1 [==============================] - 0s 3ms/step - loss: 0.0463\n",
      "Epoch 100/100\n",
      "1/1 [==============================] - 0s 4ms/step - loss: 0.0419\n"
     ]
    }
   ],
   "source": [
    "#Entrenando el modelo\n",
    "epochs_hist = model.fit(X_train, y_train, epochs = 100)"
   ]
  },
  {
   "cell_type": "code",
   "execution_count": 19,
   "metadata": {},
   "outputs": [
    {
     "data": {
      "text/plain": [
       "<matplotlib.legend.Legend at 0x1b358e63190>"
      ]
     },
     "execution_count": 19,
     "metadata": {},
     "output_type": "execute_result"
    },
    {
     "data": {
      "image/png": "[encoded data removed]",
      "text/plain": [
       "<Figure size 640x480 with 1 Axes>"
      ]
     },
     "metadata": {},
     "output_type": "display_data"
    }
   ],
   "source": [
    "#Evaluando modelo\n",
    "epochs_hist.history.keys()\n",
    "\n",
    "#Grafico\n",
    "plt.plot(epochs_hist.history['loss'])\n",
    "plt.title('Progreso de Perdida durante Entrenamiento del Modelo')\n",
    "plt.xlabel('Epoch')\n",
    "plt.ylabel('Training Loss')\n",
    "plt.legend('Training Loss')"
   ]
  },
  {
   "cell_type": "code",
   "execution_count": 20,
   "metadata": {},
   "outputs": [
    {
     "name": "stdout",
     "output_type": "stream",
     "text": [
      "1/1 [==============================] - 0s 161ms/step\n",
      "Temperatura de Prediccion: [[31.800465]]\n",
      "Temperatura de Ecuacion: 32.0\n"
     ]
    }
   ],
   "source": [
    "#Para ver los pesos\n",
    "#model.get_weights()\n",
    "\n",
    "#Predicciones\n",
    "Temp_C = 0\n",
    "Temp_F = model.predict([Temp_C])\n",
    "print(\"Temperatura de Prediccion: \" + str(Temp_F))\n",
    "\n",
    "Temp_F = 9/5 * Temp_C + 32\n",
    "print(\"Temperatura de Ecuacion: \" + str(Temp_F))"
   ]
  }
 ],
 "metadata": {
  "kernelspec": {
   "display_name": "Python 3",
   "language": "python",
   "name": "python3"
  },
  "language_info": {
   "codemirror_mode": {
    "name": "ipython",
    "version": 3
   },
   "file_extension": ".py",
   "mimetype": "text/x-python",
   "name": "python",
   "nbconvert_exporter": "python",
   "pygments_lexer": "ipython3",
   "version": "3.10.7"
  },
  "orig_nbformat": 4
 },
 "nbformat": 4,
 "nbformat_minor": 2
}
